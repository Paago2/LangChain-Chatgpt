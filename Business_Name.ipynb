{
 "cells": [
  {
   "cell_type": "code",
   "execution_count": 1,
   "metadata": {},
   "outputs": [],
   "source": [
    "from langchain.llms import OpenAI\n",
    "from langchain.prompts import PromptTemplate\n",
    "from langchain.chains import LLMChain\n",
    "from langchain.chains import SequentialChain\n",
    "\n",
    "import os"
   ]
  },
  {
   "cell_type": "code",
   "execution_count": 2,
   "metadata": {},
   "outputs": [],
   "source": [
    "from dotenv import dotenv_values\n",
    "secrets = dotenv_values(\".env\")"
   ]
  },
  {
   "cell_type": "code",
   "execution_count": null,
   "metadata": {},
   "outputs": [],
   "source": [
    "secrets[\"OPENAI_API_KEY\"]"
   ]
  },
  {
   "cell_type": "code",
   "execution_count": 4,
   "metadata": {},
   "outputs": [],
   "source": [
    "# Define OpenAI instance\n",
    "llm = OpenAI(temperature=0.7)\n",
    "\n",
    "# Define prompt template for business names\n",
    "prompt_template_name = PromptTemplate(\n",
    "    input_variables=['small_business'],\n",
    "    template=\"I want to open a {small_business}. Suggest 5 fancy names for this and please use one word for each business.\"\n",
    ")\n",
    "\n"
   ]
  },
  {
   "cell_type": "code",
   "execution_count": 5,
   "metadata": {},
   "outputs": [],
   "source": [
    "# Define chain for business names\n",
    "name_chain = LLMChain(llm=llm, prompt=prompt_template_name, output_key=\"Business_name\")\n",
    "\n",
    "# Define prompt template for services/items\n",
    "prompt_template_items = PromptTemplate(\n",
    "    input_variables=['Business_name'],\n",
    "    template=\"\"\"Suggest 5 itemize services for {Business_name} and if food services, menu items, otherwise retail items. Names need to be single or comma-separated\"\"\"\n",
    ")\n",
    "\n"
   ]
  },
  {
   "cell_type": "code",
   "execution_count": 6,
   "metadata": {},
   "outputs": [],
   "source": [
    "# Define chain for services/items\n",
    "services_chain = LLMChain(llm=llm, prompt=prompt_template_items, output_key=\"Itemize_Services\")\n",
    "\n",
    "# Define Sequential Chain\n",
    "chain = SequentialChain(\n",
    "    chains=[name_chain, services_chain],\n",
    "    input_variables=['small_business'],\n",
    "    output_variables=['Business_name', \"Itemize_Services\"]\n",
    ")\n",
    "\n"
   ]
  },
  {
   "cell_type": "code",
   "execution_count": 7,
   "metadata": {},
   "outputs": [
    {
     "name": "stdout",
     "output_type": "stream",
     "text": [
      "{'small_business': 'Boutique', 'Business_name': '\\n\\n1. Glitzy\\n2. Elegance\\n3. Sparkles\\n4. Dazzles\\n5. Splendid', 'Itemize_Services': ':\\n\\n1. Luxury Clothing\\n2. Fine Jewellery\\n3. Gourmet Dining\\n4. Custom Embroidery\\n5. Specialty Gifts'}\n"
     ]
    }
   ],
   "source": [
    "# Run the chain\n",
    "response = chain({'small_business': 'Boutique'})\n",
    "print(response)"
   ]
  }
 ],
 "metadata": {
  "kernelspec": {
   "display_name": "Python 3",
   "language": "python",
   "name": "python3"
  },
  "language_info": {
   "codemirror_mode": {
    "name": "ipython",
    "version": 3
   },
   "file_extension": ".py",
   "mimetype": "text/x-python",
   "name": "python",
   "nbconvert_exporter": "python",
   "pygments_lexer": "ipython3",
   "version": "0.0.0"
  },
  "orig_nbformat": 4
 },
 "nbformat": 4,
 "nbformat_minor": 2
}
